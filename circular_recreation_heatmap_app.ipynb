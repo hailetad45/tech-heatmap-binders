{
 "cells": [
  {
   "cell_type": "code",
   "execution_count": 60,
   "id": "12c40b96-67c3-4dcf-bd93-ee0349fc36a2",
   "metadata": {
    "tags": []
   },
   "outputs": [
    {
     "data": {
      "application/vnd.jupyter.widget-view+json": {
       "model_id": "f52369414b8247bdb0eb10102a9118b7",
       "version_major": 2,
       "version_minor": 0
      },
      "text/plain": [
       "interactive(children=(SelectMultiple(description='Years', index=(0, 6, 11, 16, 21, 24), options=(1999, 2000, 2…"
      ]
     },
     "metadata": {},
     "output_type": "display_data"
    },
    {
     "data": {
      "text/plain": [
       "<function __main__.plot_heatmap(selected_years, selected_tech)>"
      ]
     },
     "execution_count": 60,
     "metadata": {},
     "output_type": "execute_result"
    }
   ],
   "source": [
    "import pandas as pd\n",
    "import matplotlib.pyplot as plt\n",
    "import seaborn as sns\n",
    "from ipywidgets import interact, widgets\n",
    "\n",
    "# --- Load CSV ---\n",
    "df = pd.read_csv(\n",
    "    r\"C:\\Users\\Owner\\OneDrive\\Desktop\\WEDLOOP\\Patent-pub-tech-count2-byorigin-y99-y23.csv\",\n",
    "    skiprows=1,\n",
    "    na_values=[\"N/A\", \"NA\", \"Na\", \"n/a\"]\n",
    ")\n",
    "df = df.fillna(0)\n",
    "\n",
    "# --- Melt the dataframe ---\n",
    "year_columns = [col for col in df.columns if col.startswith(\"YR\")]\n",
    "df_melted = df.melt(\n",
    "    id_vars=[\"Field of technology\"], \n",
    "    value_vars=year_columns,\n",
    "    var_name=\"Year\",\n",
    "    value_name=\"Patent_Count\"\n",
    ")\n",
    "\n",
    "# Clean Year and convert counts\n",
    "df_melted['Year'] = df_melted['Year'].str.replace(\"YR\", \"\").astype(int)\n",
    "df_melted['Patent_Count'] = (\n",
    "    df_melted['Patent_Count'].astype(str)\n",
    "    .str.replace(\",\", \"\")\n",
    "    .str.strip()\n",
    ")\n",
    "df_melted['Patent_Count'] = pd.to_numeric(df_melted['Patent_Count'], errors='coerce').fillna(0)\n",
    "\n",
    "# --- Function to plot interactive heatmap ---\n",
    "def plot_heatmap(selected_years, selected_tech):\n",
    "    # Filter technologies\n",
    "    filtered_df = df_melted.copy()\n",
    "    if selected_tech:\n",
    "        filtered_df = filtered_df[filtered_df['Field of technology'].isin(selected_tech)]\n",
    "    \n",
    "    if selected_years:\n",
    "        filtered_df = filtered_df[filtered_df['Year'].isin(selected_years)]\n",
    "\n",
    "    # Pivot table\n",
    "    heatmap_data = filtered_df.pivot_table(\n",
    "        index=\"Field of technology\",\n",
    "        columns=\"Year\",\n",
    "        values=\"Patent_Count\",\n",
    "        aggfunc='sum',\n",
    "        fill_value=0\n",
    "    )\n",
    "\n",
    "    # Normalize per technology\n",
    "    heatmap_data_norm = heatmap_data.div(heatmap_data.max(axis=1), axis=0)\n",
    "\n",
    "    # Plot\n",
    "    plt.figure(figsize=(14, max(6, 0.5*len(heatmap_data_norm))))\n",
    "    sns.heatmap(\n",
    "        heatmap_data_norm,\n",
    "        cmap=\"viridis\",\n",
    "        cbar_kws={'label': 'Normalized Patent Counts'},\n",
    "        linewidths=0.3,\n",
    "        annot=True,\n",
    "        fmt=\".2f\"\n",
    "    )\n",
    "    plt.gca().xaxis.tick_top()\n",
    "    plt.xticks(rotation=0)\n",
    "    plt.title(\"Patent Publications by Technology (Normalized)\", fontsize=16)\n",
    "    plt.xlabel(\"Year\")\n",
    "    plt.ylabel(\"Technology\")\n",
    "    plt.show()\n",
    "\n",
    "# --- Interactive widgets ---\n",
    "all_years = sorted(df_melted['Year'].unique())\n",
    "all_tech = sorted(df_melted['Field of technology'].unique())\n",
    "\n",
    "interact(\n",
    "    plot_heatmap,\n",
    "    selected_years=widgets.SelectMultiple(\n",
    "        options=all_years,\n",
    "        value=(1999, 2005, 2010, 2015, 2020, 2023),\n",
    "        description='Years'\n",
    "    ),\n",
    "    selected_tech=widgets.SelectMultiple(\n",
    "        options=all_tech,\n",
    "        value=(),\n",
    "        description='Technologies'\n",
    "    )\n",
    ")\n"
   ]
  },
  {
   "cell_type": "code",
   "execution_count": null,
   "id": "d21f2efc-a590-4f0a-9fb5-7a19636c77ff",
   "metadata": {},
   "outputs": [],
   "source": []
  }
 ],
 "metadata": {
  "kernelspec": {
   "display_name": "Python 3 (ipykernel)",
   "language": "python",
   "name": "python3"
  },
  "language_info": {
   "codemirror_mode": {
    "name": "ipython",
    "version": 3
   },
   "file_extension": ".py",
   "mimetype": "text/x-python",
   "name": "python",
   "nbconvert_exporter": "python",
   "pygments_lexer": "ipython3",
   "version": "3.11.5"
  }
 },
 "nbformat": 4,
 "nbformat_minor": 5
}
